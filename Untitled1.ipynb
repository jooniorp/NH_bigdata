{
  "nbformat": 4,
  "nbformat_minor": 0,
  "metadata": {
    "colab": {
      "provenance": []
    },
    "kernelspec": {
      "name": "python3",
      "display_name": "Python 3"
    },
    "language_info": {
      "name": "python"
    }
  },
  "cells": [
    {
      "cell_type": "markdown",
      "source": [
        "# 파일 업로드 NH_CONTEST_STK_DT_QUT"
      ],
      "metadata": {
        "id": "ePJgUZCPAlHA"
      }
    },
    {
      "cell_type": "code",
      "source": [
        "from google.colab import files\n",
        "import pandas as pd\n",
        "\n",
        "# CSV 파일 업로드\n",
        "uploaded = files.upload()"
      ],
      "metadata": {
        "id": "2jlHnoQEiOMk"
      },
      "execution_count": null,
      "outputs": []
    },
    {
      "cell_type": "markdown",
      "source": [
        "# 3개월치 NATR 계산"
      ],
      "metadata": {
        "id": "LAauy6zWAkVV"
      }
    },
    {
      "cell_type": "code",
      "source": [
        "# CSV 파일 읽기\n",
        "for file_name in uploaded.keys():\n",
        "    df = pd.read_csv(file_name)\n",
        "    print(f'{file_name} 데이터:')\n",
        "    print(df.head())\n",
        "\n",
        "    # 날짜 기준으로 종목별 정렬 (문자열로 된 날짜 정렬)\n",
        "    df = df.sort_values(by=['tck_iem_cd', 'bse_dt'])\n",
        "\n",
        "    # True Range(TR) 계산: 이전 종가와 고가, 저가 사용\n",
        "    df['Previous Close'] = df.groupby('tck_iem_cd')['iem_end_pr'].shift(1)  # 이전 종가\n",
        "    df['TR'] = df[['iem_hi_pr', 'iem_low_pr', 'Previous Close']].apply(\n",
        "        lambda x: max(x['iem_hi_pr'] - x['iem_low_pr'],\n",
        "                      abs(x['iem_hi_pr'] - x['Previous Close']),\n",
        "                      abs(x['iem_low_pr'] - x['Previous Close'])), axis=1)\n",
        "\n",
        "    # ATR 계산 (3개월치 기준, 즉 62일 기준)\n",
        "    df['ATR'] = df.groupby('tck_iem_cd')['TR'].rolling(window=62).mean().reset_index(level=0, drop=True)\n",
        "\n",
        "    # NATR 계산: ATR을 종가 평균으로 나누기\n",
        "    df['NATR'] = df['ATR'] / df.groupby('tck_iem_cd')['iem_end_pr'].rolling(window=63).mean().reset_index(level=0, drop=True)\n",
        "\n",
        "    # NATR NaN 처리: NaN을 0으로 대체\n",
        "    df['NATR'] = df['NATR'].fillna(0)\n",
        "\n",
        "    # 각 종목(tck_iem_cd)별 마지막 날짜의 데이터만 선택\n",
        "    last_day_df = df.groupby('tck_iem_cd').tail(1)\n",
        "\n",
        "    # NATR 기준 오름차순 정렬\n",
        "    last_day_df = last_day_df.sort_values(by='NATR')\n",
        "\n",
        "    # 필요한 컬럼만 선택하여 출력\n",
        "    result_df = last_day_df[['bse_dt', 'tck_iem_cd', 'iem_hi_pr', 'iem_low_pr', 'iem_end_pr', 'TR', 'NATR']]\n",
        "\n",
        "    # 결과 확인\n",
        "    print(f'{file_name}에서 마지막 날짜의 선택된 결과 데이터 (NATR 기준 오름차순):')\n",
        "    print(result_df)\n",
        "\n",
        "    # 선택된 데이터를 새로운 CSV 파일로 저장\n",
        "    output_file = 'last_day_natr_sorted_by_natr.csv'\n",
        "    result_df.to_csv(output_file, index=False)\n",
        "\n",
        "    # 파일 다운로드\n",
        "    files.download(output_file)\n",
        "\n",
        "    print(f'NATR 기준 오름차순 정렬된 새로운 CSV 파일이 생성되었습니다: {output_file}')\n"
      ],
      "metadata": {
        "id": "rxG7zLFCizXo"
      },
      "execution_count": null,
      "outputs": []
    },
    {
      "cell_type": "markdown",
      "source": [
        "# 추가적으로 hi, low, end 데이터가 63개가 아닌 컬럼은 따로 추가적으로 선택하여 개수를 맞춰서 출력"
      ],
      "metadata": {
        "id": "zcBeCDnwBC8_"
      }
    },
    {
      "cell_type": "code",
      "source": [
        "import pandas as pd\n",
        "\n",
        "# CSV 파일 읽기\n",
        "for file_name in uploaded.keys():\n",
        "    df = pd.read_csv(file_name)\n",
        "    print(f'{file_name} 데이터:')\n",
        "    print(df.head())\n",
        "\n",
        "    # 날짜 기준으로 종목별 정렬\n",
        "    df = df.sort_values(by=['tck_iem_cd', 'bse_dt'])\n",
        "\n",
        "    # 관심 종목 리스트\n",
        "    target_stocks = ['BDL         ']\n",
        "\n",
        "    # 관심 종목만 필터링\n",
        "    filtered_df = df[df['tck_iem_cd'].isin(target_stocks)].copy()\n",
        "\n",
        "    # 필터링한 종목 출력\n",
        "    unique_stocks = filtered_df['tck_iem_cd'].unique()\n",
        "    print(f'필터링된 종목: {unique_stocks}')\n",
        "\n",
        "    # True Range(TR) 계산: 이전 종가와 고가, 저가 사용\n",
        "    filtered_df.loc[:, 'Previous Close'] = filtered_df.groupby('tck_iem_cd')['iem_end_pr'].shift(1)  # 이전 종가\n",
        "    filtered_df.loc[:, 'TR'] = filtered_df[['iem_hi_pr', 'iem_low_pr', 'Previous Close']].apply(\n",
        "        lambda x: max(x['iem_hi_pr'] - x['iem_low_pr'],\n",
        "                      abs(x['iem_hi_pr'] - x['Previous Close']),\n",
        "                      abs(x['iem_low_pr'] - x['Previous Close'])), axis=1)\n",
        "\n",
        "    # ATR 계산 (62일 기준)\n",
        "    filtered_df.loc[:, 'ATR'] = filtered_df.groupby('tck_iem_cd')['TR'].rolling(window=52).mean().reset_index(level=0, drop=True)\n",
        "\n",
        "    # NATR 계산: ATR을 종가 평균으로 나누기\n",
        "    filtered_df.loc[:, 'NATR'] = filtered_df['ATR'] / filtered_df.groupby('tck_iem_cd')['iem_end_pr'].rolling(window=52).mean().reset_index(level=0, drop=True)\n",
        "\n",
        "    # NATR NaN 처리: NaN을 0으로 대체\n",
        "    filtered_df.loc[:, 'NATR'] = filtered_df['NATR'].fillna(0)\n",
        "\n",
        "    # TR 및 NATR 데이터 추출\n",
        "    result_df = filtered_df[['bse_dt', 'tck_iem_cd', 'TR', 'NATR']]\n",
        "\n",
        "    # 결과 확인\n",
        "    print(f'{file_name}에서 선택된 종목의 TR 및 NATR 데이터:')\n",
        "    print(result_df)\n",
        "\n",
        "    # TR 및 NATR 데이터를 새로운 CSV 파일로 저장\n",
        "    output_file = 'target_stocks_tr_natr_data.csv'\n",
        "    result_df.to_csv(output_file, index=False)\n",
        "\n",
        "    # 파일 다운로드\n",
        "    files.download(output_file)\n",
        "\n",
        "    print(f'선택된 종목의 TR 및 NATR 데이터가 포함된 새로운 CSV 파일이 생성되었습니다: {output_file}')\n"
      ],
      "metadata": {
        "id": "rVr4Aa9DHLv-"
      },
      "execution_count": null,
      "outputs": []
    },
    {
      "cell_type": "code",
      "source": [
        "from google.colab import files\n",
        "import pandas as pd\n",
        "\n",
        "# CSV 파일 업로드\n",
        "uploaded = files.upload()"
      ],
      "metadata": {
        "id": "oCWcIExPO9xd"
      },
      "execution_count": null,
      "outputs": []
    },
    {
      "cell_type": "markdown",
      "source": [
        "# 종목별 수익 투자자 비율 평균"
      ],
      "metadata": {
        "id": "Z9yOthCfBTKO"
      }
    },
    {
      "cell_type": "code",
      "source": [
        "import pandas as pd\n",
        "\n",
        "# CSV 파일 읽기\n",
        "for file_name in uploaded.keys():\n",
        "    df = pd.read_csv(file_name)\n",
        "    print(f'{file_name} 데이터:')\n",
        "    print(df.head())\n",
        "\n",
        "    # 원하는 컬럼만 추출\n",
        "    result_df = df[['tck_iem_cd', 'pft_ivo_rt']]\n",
        "\n",
        "    # 종목별 pft_ivo_rt 평균값 계산\n",
        "    avg_pft_ivo_rt = result_df.groupby('tck_iem_cd')['pft_ivo_rt'].mean().reset_index()\n",
        "    avg_pft_ivo_rt.rename(columns={'pft_ivo_rt': 'avg_pft_ivo_rt'}, inplace=True)\n",
        "\n",
        "    # 평균값 기준 오름차순 정렬\n",
        "    avg_pft_ivo_rt = avg_pft_ivo_rt.sort_values(by='avg_pft_ivo_rt')\n",
        "\n",
        "    # 결과 확인\n",
        "    print(f'{file_name}에서 종목별 평균 pft_ivo_rt:')\n",
        "    print(avg_pft_ivo_rt)\n",
        "\n",
        "    # 데이터를 새로운 CSV 파일로 저장\n",
        "    output_file = 'sorted_avg_pft_ivo_rt.csv'\n",
        "    avg_pft_ivo_rt.to_csv(output_file, index=False)\n",
        "\n",
        "    # 파일 다운로드\n",
        "    files.download(output_file)\n",
        "\n",
        "    print(f'종목별 평균 pft_ivo_rt가 포함된 새로운 CSV 파일이 생성되었습니다: {output_file}')"
      ],
      "metadata": {
        "id": "0Adk1-eRPPDQ"
      },
      "execution_count": null,
      "outputs": []
    },
    {
      "cell_type": "code",
      "source": [
        "from google.colab import files\n",
        "import pandas as pd\n",
        "\n",
        "# CSV 파일 업로드\n",
        "uploaded = files.upload()"
      ],
      "metadata": {
        "id": "6BahiNtHSto1"
      },
      "execution_count": null,
      "outputs": []
    },
    {
      "cell_type": "markdown",
      "source": [
        "# 차후에 사용할 etf 추천 시 특정 종목을 가지는 비율 percentage가 높은 순으로 정렬한 excel 추출"
      ],
      "metadata": {
        "id": "Lr_XXtWqBb8c"
      }
    },
    {
      "cell_type": "code",
      "source": [
        "import pandas as pd\n",
        "from google.colab import files\n",
        "\n",
        "# CSV 파일 읽기\n",
        "df = pd.read_csv('NH_CONTEST_DATA_ETF_HOLDINGS.csv', encoding='ISO-8859-1')  # 인코딩은 필요에 따라 조정하세요\n",
        "\n",
        "# 특정 종목 코드 리스트\n",
        "specific_tck_iem_cd = ['NVDA', 'AAPL']\n",
        "\n",
        "# 필터링: tck_iem_cd가 specific_tck_iem_cd에 포함된 데이터만 선택\n",
        "filtered_df = df[df['tck_iem_cd'].isin(specific_tck_iem_cd)]\n",
        "\n",
        "# tck_iem_cd별로 wht_pct의 내림차순으로 정렬\n",
        "sorted_df = filtered_df.sort_values(by=['tck_iem_cd', 'wht_pct'], ascending=[True, False])\n",
        "\n",
        "# 최종 결과 확인\n",
        "print(sorted_df)\n",
        "\n",
        "# 파일 저장\n",
        "sorted_df.to_csv('sorted_data.csv', index=False)\n",
        "\n",
        "# 파일 다운로드\n",
        "files.download('sorted_data.csv')\n"
      ],
      "metadata": {
        "id": "wEtfeRsLSuBl"
      },
      "execution_count": null,
      "outputs": []
    },
    {
      "cell_type": "code",
      "source": [
        "print(df['tck_iem_cd'].unique())  # 종목 코드 목록 확인\n",
        "print(specific_tck_iem_cd)"
      ],
      "metadata": {
        "id": "bJZHr7OIZrDJ"
      },
      "execution_count": null,
      "outputs": []
    }
  ]
}